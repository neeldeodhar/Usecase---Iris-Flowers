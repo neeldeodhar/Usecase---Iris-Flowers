{
 "cells": [
  {
   "cell_type": "code",
   "execution_count": 2,
   "id": "93deebd0",
   "metadata": {},
   "outputs": [],
   "source": [
    "#setting up project development project environment and importing libraries\n",
    "import numpy as np\n",
    "import pandas as pd\n",
    "import matplotlib.pyplot as plt\n",
    "\n",
    "\n",
    "import seaborn as sns\n",
    "from sklearn.model_selection import train_test_split\n",
    "from sklearn import metrics\n",
    "from sklearn.metrics import accuracy_score\n",
    "from sklearn.metrics import classification_report, confusion_matrix"
   ]
  },
  {
   "cell_type": "code",
   "execution_count": 3,
   "id": "e5613b25",
   "metadata": {},
   "outputs": [],
   "source": [
    "# opening and reading CSV file....defining data\n",
    "dataset_url = 'https://raw.githubusercontent.com/jbrownlee/Datasets/master/iris.csv'\n",
    "\n",
    "data = pd.read_csv(dataset_url)\n"
   ]
  },
  {
   "cell_type": "code",
   "execution_count": 4,
   "id": "97a1165a",
   "metadata": {},
   "outputs": [
    {
     "data": {
      "text/html": [
       "<div>\n",
       "<style scoped>\n",
       "    .dataframe tbody tr th:only-of-type {\n",
       "        vertical-align: middle;\n",
       "    }\n",
       "\n",
       "    .dataframe tbody tr th {\n",
       "        vertical-align: top;\n",
       "    }\n",
       "\n",
       "    .dataframe thead th {\n",
       "        text-align: right;\n",
       "    }\n",
       "</style>\n",
       "<table border=\"1\" class=\"dataframe\">\n",
       "  <thead>\n",
       "    <tr style=\"text-align: right;\">\n",
       "      <th></th>\n",
       "      <th>5.1</th>\n",
       "      <th>3.5</th>\n",
       "      <th>1.4</th>\n",
       "      <th>0.2</th>\n",
       "      <th>Iris-setosa</th>\n",
       "    </tr>\n",
       "  </thead>\n",
       "  <tbody>\n",
       "    <tr>\n",
       "      <th>0</th>\n",
       "      <td>4.9</td>\n",
       "      <td>3.0</td>\n",
       "      <td>1.4</td>\n",
       "      <td>0.2</td>\n",
       "      <td>Iris-setosa</td>\n",
       "    </tr>\n",
       "    <tr>\n",
       "      <th>1</th>\n",
       "      <td>4.7</td>\n",
       "      <td>3.2</td>\n",
       "      <td>1.3</td>\n",
       "      <td>0.2</td>\n",
       "      <td>Iris-setosa</td>\n",
       "    </tr>\n",
       "    <tr>\n",
       "      <th>2</th>\n",
       "      <td>4.6</td>\n",
       "      <td>3.1</td>\n",
       "      <td>1.5</td>\n",
       "      <td>0.2</td>\n",
       "      <td>Iris-setosa</td>\n",
       "    </tr>\n",
       "    <tr>\n",
       "      <th>3</th>\n",
       "      <td>5.0</td>\n",
       "      <td>3.6</td>\n",
       "      <td>1.4</td>\n",
       "      <td>0.2</td>\n",
       "      <td>Iris-setosa</td>\n",
       "    </tr>\n",
       "    <tr>\n",
       "      <th>4</th>\n",
       "      <td>5.4</td>\n",
       "      <td>3.9</td>\n",
       "      <td>1.7</td>\n",
       "      <td>0.4</td>\n",
       "      <td>Iris-setosa</td>\n",
       "    </tr>\n",
       "  </tbody>\n",
       "</table>\n",
       "</div>"
      ],
      "text/plain": [
       "   5.1  3.5  1.4  0.2  Iris-setosa\n",
       "0  4.9  3.0  1.4  0.2  Iris-setosa\n",
       "1  4.7  3.2  1.3  0.2  Iris-setosa\n",
       "2  4.6  3.1  1.5  0.2  Iris-setosa\n",
       "3  5.0  3.6  1.4  0.2  Iris-setosa\n",
       "4  5.4  3.9  1.7  0.4  Iris-setosa"
      ]
     },
     "execution_count": 4,
     "metadata": {},
     "output_type": "execute_result"
    }
   ],
   "source": [
    "# printing first five columns\n",
    "data.head()\n"
   ]
  },
  {
   "cell_type": "code",
   "execution_count": 5,
   "id": "8de3dbf8",
   "metadata": {},
   "outputs": [],
   "source": [
    "#defining df and dataframe data\n",
    "df = pd.DataFrame(data)"
   ]
  },
  {
   "cell_type": "code",
   "execution_count": 6,
   "id": "8ed085ba",
   "metadata": {},
   "outputs": [
    {
     "data": {
      "text/plain": [
       "Index(['5.1', '3.5', '1.4', '0.2', 'Iris-setosa'], dtype='object')"
      ]
     },
     "execution_count": 6,
     "metadata": {},
     "output_type": "execute_result"
    }
   ],
   "source": [
    "# listing columns\n",
    "df.columns\n",
    "# dataset columns are not labelled but ordered in following manner: \n",
    "  # sepal-length, sepal-width, petal-length, petal - width"
   ]
  },
  {
   "cell_type": "code",
   "execution_count": 7,
   "id": "19e374d4",
   "metadata": {},
   "outputs": [],
   "source": [
    "#dropping Iris-Setosa column (class)\n",
    "y = data['Iris-setosa'].values\n",
    "X = data.drop('Iris-setosa', axis=1)"
   ]
  },
  {
   "cell_type": "code",
   "execution_count": 8,
   "id": "00ae03ab",
   "metadata": {},
   "outputs": [],
   "source": [
    "# dong 80/20 train and test split\n",
    "X_train, X_test, y_train, y_test = train_test_split(X, y,test_size=0.2 , random_state = 7)"
   ]
  },
  {
   "cell_type": "code",
   "execution_count": 9,
   "id": "e59485b1",
   "metadata": {},
   "outputs": [
    {
     "name": "stdout",
     "output_type": "stream",
     "text": [
      "0.9\n"
     ]
    }
   ],
   "source": [
    "# creating multi_class Logistic Regression model\n",
    "from sklearn.linear_model import LogisticRegression\n",
    "MLR = LogisticRegression(solver='liblinear', multi_class='ovr')\n",
    "MLR.fit(X_train,y_train)\n",
    "y_pred1 = MLR.predict(X_test)\n",
    "print(metrics.accuracy_score(y_test,y_pred1))"
   ]
  },
  {
   "cell_type": "code",
   "execution_count": 10,
   "id": "4b1da3be",
   "metadata": {},
   "outputs": [
    {
     "data": {
      "text/plain": [
       "0.9333333333333333"
      ]
     },
     "execution_count": 10,
     "metadata": {},
     "output_type": "execute_result"
    }
   ],
   "source": [
    "#creating KNeighbors classifier model\n",
    "from sklearn.neighbors import KNeighborsClassifier\n",
    "KNC = KNeighborsClassifier(n_neighbors =5, p = 2, metric = 'minkowski')\n",
    "KNC.fit(X_train, y_train)\n",
    "KNC.score(X_test, y_test)"
   ]
  },
  {
   "cell_type": "code",
   "execution_count": 11,
   "id": "9b835a68",
   "metadata": {},
   "outputs": [
    {
     "data": {
      "text/plain": [
       "0.9333333333333333"
      ]
     },
     "execution_count": 11,
     "metadata": {},
     "output_type": "execute_result"
    }
   ],
   "source": [
    "#creating Decision Tree Classifier model\n",
    "from sklearn.tree import DecisionTreeClassifier\n",
    "\n",
    "DTC = DecisionTreeClassifier()\n",
    "DTC.fit(X_train, y_train)\n",
    "DTC.score(X_test, y_test)\n"
   ]
  },
  {
   "cell_type": "code",
   "execution_count": 12,
   "id": "0d68be29",
   "metadata": {},
   "outputs": [
    {
     "data": {
      "text/plain": [
       "0.9666666666666667"
      ]
     },
     "execution_count": 12,
     "metadata": {},
     "output_type": "execute_result"
    }
   ],
   "source": [
    "#creating Random forest classifier model\n",
    "from sklearn.ensemble import RandomForestClassifier\n",
    "RFC = RandomForestClassifier(n_estimators =100)\n",
    "RFC.fit(X_train, y_train)\n",
    "y_pred3 = RFC.predict(X_test)\n",
    "metrics.accuracy_score(y_test, y_pred3)"
   ]
  },
  {
   "cell_type": "code",
   "execution_count": 13,
   "id": "515646e3",
   "metadata": {},
   "outputs": [
    {
     "data": {
      "text/plain": [
       "0.9333333333333333"
      ]
     },
     "execution_count": 13,
     "metadata": {},
     "output_type": "execute_result"
    }
   ],
   "source": [
    "#creating Support Vector Machines model\n",
    "from sklearn.svm import SVC\n",
    "SVM = SVC(kernel = 'rbf', random_state = 7, gamma = 0.10, C = 1.0)\n",
    "SVM.fit(X_train, y_train)\n",
    "SVM.score(X_test, y_test)\n"
   ]
  },
  {
   "cell_type": "code",
   "execution_count": 14,
   "id": "53776b4e",
   "metadata": {},
   "outputs": [
    {
     "data": {
      "text/plain": [
       "0.9666666666666667"
      ]
     },
     "execution_count": 14,
     "metadata": {},
     "output_type": "execute_result"
    }
   ],
   "source": [
    "#creating Gaussian Naive Bayes Classifier model\n",
    "from sklearn.naive_bayes import GaussianNB\n",
    "\n",
    "GNB = GaussianNB()\n",
    "GNB.fit(X_train, y_train)\n",
    "y_pred2 = GNB.predict(X_test)\n",
    "accuracy_score(y_test, y_pred2)"
   ]
  },
  {
   "cell_type": "code",
   "execution_count": 15,
   "id": "9282777c",
   "metadata": {},
   "outputs": [
    {
     "name": "stdout",
     "output_type": "stream",
     "text": [
      "0.9666666666666667\n",
      "[[ 7  0  0]\n",
      " [ 0 11  1]\n",
      " [ 0  0 11]]\n",
      "0.9333333333333333\n",
      "[[ 7  0  0]\n",
      " [ 0 11  1]\n",
      " [ 0  1 10]]\n",
      "0.9333333333333333\n",
      "[[ 7  0  0]\n",
      " [ 0 11  1]\n",
      " [ 0  1 10]]\n",
      "0.9666666666666667\n",
      "[[ 7  0  0]\n",
      " [ 0 11  1]\n",
      " [ 0  0 11]]\n",
      "0.9666666666666667\n",
      "[[ 7  0  0]\n",
      " [ 0 11  1]\n",
      " [ 0  0 11]]\n",
      "0.9\n",
      "[[ 7  0  0]\n",
      " [ 0 10  2]\n",
      " [ 0  1 10]]\n",
      "[array([[ 7,  0,  0],\n",
      "       [ 0, 11,  1],\n",
      "       [ 0,  0, 11]], dtype=int64), array([[ 7,  0,  0],\n",
      "       [ 0, 11,  1],\n",
      "       [ 0,  1, 10]], dtype=int64), array([[ 7,  0,  0],\n",
      "       [ 0, 11,  1],\n",
      "       [ 0,  1, 10]], dtype=int64), array([[ 7,  0,  0],\n",
      "       [ 0, 11,  1],\n",
      "       [ 0,  0, 11]], dtype=int64), array([[ 7,  0,  0],\n",
      "       [ 0, 11,  1],\n",
      "       [ 0,  0, 11]], dtype=int64), array([[ 7,  0,  0],\n",
      "       [ 0, 10,  2],\n",
      "       [ 0,  1, 10]], dtype=int64)]\n"
     ]
    }
   ],
   "source": [
    "from sklearn.metrics import classification_report, confusion_matrix\n",
    "# list of models \n",
    "#creating an array for accuracy and confusion_mat\n",
    "accuracy = []\n",
    "confusion_mat = []\n",
    "#creating a list of models used for testing above\n",
    "models = [DTC, KNC, SVM, RFC, GNB, MLR]\n",
    "\n",
    "for model in models:\n",
    "   \n",
    "    model.fit(X_train, y_train)\n",
    "    prediction = model.predict(X_test)\n",
    "    model.score(X_test, y_test)\n",
    "    accuracy.append(accuracy_score(y_test, prediction))\n",
    "    print (accuracy_score(y_test, prediction))\n",
    "    \n",
    "    print(confusion_matrix(y_test, prediction))\n",
    "    confusion_mat.append(confusion_matrix(y_test,prediction))\n",
    " # printing confusion matrix for each model type \n",
    "print (confusion_mat)\n"
   ]
  },
  {
   "cell_type": "code",
   "execution_count": 16,
   "id": "426067eb",
   "metadata": {},
   "outputs": [
    {
     "data": {
      "text/plain": [
       "[0.9666666666666667,\n",
       " 0.9333333333333333,\n",
       " 0.9333333333333333,\n",
       " 0.9666666666666667,\n",
       " 0.9666666666666667,\n",
       " 0.9]"
      ]
     },
     "execution_count": 16,
     "metadata": {},
     "output_type": "execute_result"
    }
   ],
   "source": [
    "accuracy"
   ]
  },
  {
   "cell_type": "code",
   "execution_count": 17,
   "id": "7b7c06ca",
   "metadata": {},
   "outputs": [
    {
     "data": {
      "text/plain": [
       "<function matplotlib.pyplot.show(close=None, block=None)>"
      ]
     },
     "execution_count": 17,
     "metadata": {},
     "output_type": "execute_result"
    },
    {
     "data": {
      "image/png": "[encoded data removed]",
      "text/plain": [
       "<Figure size 1000x500 with 1 Axes>"
      ]
     },
     "metadata": {},
     "output_type": "display_data"
    }
   ],
   "source": [
    "# plotting accuracy score for models tested above for comparison\n",
    "models1 = ['DTC', 'KNC', 'SVM', 'RFC', 'GNB', 'MLR']\n",
    "\n",
    "fig = plt.figure(figsize= (10,5))\n",
    "plt.bar(models1, accuracy, color = 'orange')\n",
    "plt.xlabel(\"models\")\n",
    "plt.ylabel(\"accuracy scores\")\n",
    "plt.title(\"comparison of accuracy scores by models\")\n",
    "plt.ylim(0.89,0.97)\n",
    "\n",
    "plt.show\n",
    "\n",
    "\n"
   ]
  },
  {
   "cell_type": "code",
   "execution_count": 18,
   "id": "f80e680a",
   "metadata": {},
   "outputs": [
    {
     "data": {
      "image/png": "[encoded data removed]",
      "text/plain": [
       "<Figure size 1000x400 with 1 Axes>"
      ]
     },
     "metadata": {},
     "output_type": "display_data"
    }
   ],
   "source": [
    "#algorithm comparison\n",
    "plt.figure(figsize = (10,4))\n",
    "\n",
    "plt.plot([\"DTC\", \"KNC\", \"SVM\", \"RFC\", \"GNB\", \"MLR\"], accuracy, color =\"magenta\" )\n",
    "plt.title(\"accuracy for classification models\")\n",
    "plt.xlabel(\"Algorithm Comparison\")\n",
    "plt.ylabel(\"Accuracy \")\n",
    "\n",
    "plt.show()"
   ]
  },
  {
   "cell_type": "code",
   "execution_count": null,
   "id": "d244f1d6",
   "metadata": {},
   "outputs": [],
   "source": []
  }
 ],
 "metadata": {
  "kernelspec": {
   "display_name": "Python 3 (ipykernel)",
   "language": "python",
   "name": "python3"
  },
  "language_info": {
   "codemirror_mode": {
    "name": "ipython",
    "version": 3
   },
   "file_extension": ".py",
   "mimetype": "text/x-python",
   "name": "python",
   "nbconvert_exporter": "python",
   "pygments_lexer": "ipython3",
   "version": "3.11.5"
  }
 },
 "nbformat": 4,
 "nbformat_minor": 5
}
